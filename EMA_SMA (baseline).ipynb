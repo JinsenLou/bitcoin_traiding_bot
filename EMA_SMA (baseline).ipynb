{
 "cells": [
  {
   "cell_type": "markdown",
   "metadata": {},
   "source": [
    "# PACKAGE IMPORT\n"
   ]
  },
  {
   "cell_type": "markdown",
   "metadata": {},
   "source": []
  },
  {
   "cell_type": "code",
   "execution_count": null,
   "metadata": {},
   "outputs": [],
   "source": [
    "import get_data as gd\n",
    "import pandas as pd\n",
    "import warnings\n",
    "warnings.filterwarnings('ignore')\n",
    "import Asset as a\n",
    "import numpy as np"
   ]
  },
  {
   "cell_type": "code",
   "execution_count": null,
   "metadata": {},
   "outputs": [],
   "source": [
    "#grab_data\n",
    "df_data = gd.grab_data()\n",
    "\n",
    "#Hyperparameter\n",
    "#Adjusted accordingly to compare with proposed strategy\n",
    "start_time = 360\n",
    "end_time = 450\n",
    "\n",
    "df_data = df_data[start_time:end_time]"
   ]
  },
  {
   "cell_type": "markdown",
   "metadata": {},
   "source": [
    "# Baseline Functions"
   ]
  },
  {
   "cell_type": "code",
   "execution_count": null,
   "metadata": {},
   "outputs": [],
   "source": [
    "days = range(start_time, end_time)\n",
    "\n",
    "def baselineFunction(ema, sma):\n",
    "    assetBase = a.Asset()\n",
    "\n",
    "\n",
    "    in_position = False\n",
    "    ema = np.asarray(df_data[ema])\n",
    "    sma = np.asarray(df_data[sma])\n",
    "    ema_vs_sma = ema > sma #gets indexes when ema is larger tan sma\n",
    "    money_progress = [] # list to store money every day\n",
    "\n",
    "    btc = np.asarray(df_data['close'])\n",
    "\n",
    "    in_position = False\n",
    "    for i in range(len(df_data)):\n",
    "        #buy trigger\n",
    "        if not in_position and ema_vs_sma[i]:\n",
    "            assetBase.buy(btc[i])\n",
    "            in_position = True\n",
    "        # Sell trigger\n",
    "        elif in_position and not ema_vs_sma[i]:\n",
    "            assetBase.sell(btc[i])\n",
    "            in_position = False\n",
    "\n",
    "        money_progress.append(assetBase.coin * btc[i] + assetBase.money)\n",
    "\n",
    "    #Final sell at the end of period\n",
    "    if in_position:\n",
    "        assetBase.sell(btc[-1])\n",
    "\n",
    "    return money_progress"
   ]
  },
  {
   "cell_type": "code",
   "execution_count": null,
   "metadata": {},
   "outputs": [],
   "source": [
    "import matplotlib.pyplot as plt\n",
    "\n",
    "#market condition\n",
    "place_per_bitcoin = np.asarray(df_data['close'])\n",
    "\n",
    "fig, ax1 = plt.subplots()\n",
    "fig.subplots_adjust(right=0.85 )\n",
    "\n",
    "#trade_strategies \n",
    "ema21_sma21 = baselineFunction('ema_21', 'sma_21')\n",
    "ema9_sma9 = baselineFunction('ema_9', 'sma_9')\n",
    "ema21_sma9 = baselineFunction('ema_21', 'sma_9')\n",
    "ema9_sma21 = baselineFunction('ema_9', 'sma_21')\n",
    "\n",
    "# Define plots\n",
    "ax1.plot(days,ema9_sma9, color='r', label='ema9_sma9')\n",
    "ax1.plot(days,ema21_sma21, color='b', label='ema21_sma21')\n",
    "ax1.plot(days,ema21_sma9, color='k', label='ema21_sma9')\n",
    "ax1.plot(days,ema9_sma21, color='g', label='ema9_sma21')\n",
    "\n",
    "#bitcoin market plot\n",
    "ax2 = ax1.twinx()\n",
    "ax2.plot(days, price_per_bitcoin, linestyle='--', color='orange', alpha=0.5, label='BTC pice (AUD')\n",
    "\n",
    "#Title and axis\n",
    "ax1.legend()\n",
    "plt.title('Bitcoin trading using EMA vx SMA strategy')\n",
    "ax1.set_xlabel('Day')\n",
    "ax1.set_ylabel('Money(AUD')\n",
    "ax2.set_ylabel('BTC Price (AUD)')\n",
    "plt.savefig(f'figure/{start_time}to{end_time}BaselineStrategy.png')\n",
    "plt.show()\n"
   ]
  },
  {
   "cell_type": "code",
   "execution_count": null,
   "metadata": {},
   "outputs": [],
   "source": []
  }
 ],
 "metadata": {
  "kernelspec": {
   "display_name": "Python 3.9.7 ('base')",
   "language": "python",
   "name": "python3"
  },
  "language_info": {
   "codemirror_mode": {
    "name": "ipython",
    "version": 3
   },
   "file_extension": ".py",
   "mimetype": "text/x-python",
   "name": "python",
   "nbconvert_exporter": "python",
   "pygments_lexer": "ipython3",
   "version": "3.9.7"
  },
  "orig_nbformat": 4,
  "vscode": {
   "interpreter": {
    "hash": "40d3a090f54c6569ab1632332b64b2c03c39dcf918b08424e98f38b5ae0af88f"
   }
  }
 },
 "nbformat": 4,
 "nbformat_minor": 2
}
