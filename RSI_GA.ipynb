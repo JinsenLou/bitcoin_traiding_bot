{
 "cells": [
  {
   "cell_type": "markdown",
   "metadata": {},
   "source": [
    "# PACKAGES"
   ]
  },
  {
   "cell_type": "markdown",
   "metadata": {},
   "source": []
  },
  {
   "cell_type": "code",
   "execution_count": null,
   "metadata": {},
   "outputs": [],
   "source": [
    "import get_data as gd\n",
    "import pandas as pd\n",
    "import warnings\n",
    "warnings.filterwarnings('ignore')\n",
    "import Asset as a\n",
    "import numpy as np\n",
    "import random\n",
    "from ta.momentum import RSIIndicator\n",
    "import matplotlib.pyplot as plt"
   ]
  },
  {
   "cell_type": "code",
   "execution_count": null,
   "metadata": {},
   "outputs": [],
   "source": [
    "# Grab bitcoin data\n",
    "df_data = gd.grab_data()"
   ]
  },
  {
   "cell_type": "markdown",
   "metadata": {},
   "source": [
    "# Hyperparameter"
   ]
  },
  {
   "cell_type": "code",
   "execution_count": null,
   "metadata": {},
   "outputs": [],
   "source": [
    "NUMBER_OF_GENERATION = 3\n",
    "POPULATION_SIZE = 2000\n",
    "CROSSOVER_PROBABILITY = 0.5\n",
    "MUTATION_PROBABILITY = 0.3\n",
    "HIGHEST_WINDOWSIZE = 30\n",
    "LOWEST_WINDOWSIZE = 4\n",
    "HIGHEST_HIGHTHRESHOLD = 90\n",
    "LOWEST_HIGHRESHOLD = 70\n",
    "HIGHEST_LOWTHRESHOLD = 30\n",
    "LOWEST_LOWTHRESHOLD = 10\n",
    "MUTATION_HIGH = 1.3\n",
    "MUTATION_LOW = 0.7\n",
    "\n",
    "#plotting hyperparams\n",
    "N_COLS = 2\n",
    "N_PLOTS = NUMBER_OF_GENERATION + 1\n",
    "N_ROWS = (N_PLOTS + N_COLS - 1) // N_COLS"
   ]
  },
  {
   "cell_type": "markdown",
   "metadata": {},
   "source": [
    "# Trade Strategy"
   ]
  },
  {
   "cell_type": "code",
   "execution_count": null,
   "metadata": {},
   "outputs": [],
   "source": [
    "def apply_strategy(data, individual, start_time, end_time):\n",
    "    "
   ]
  }
 ],
 "metadata": {
  "kernelspec": {
   "display_name": "Python 3.9.7 ('base')",
   "language": "python",
   "name": "python3"
  },
  "language_info": {
   "codemirror_mode": {
    "name": "ipython",
    "version": 3
   },
   "file_extension": ".py",
   "mimetype": "text/x-python",
   "name": "python",
   "nbconvert_exporter": "python",
   "pygments_lexer": "ipython3",
   "version": "3.9.7"
  },
  "orig_nbformat": 4,
  "vscode": {
   "interpreter": {
    "hash": "40d3a090f54c6569ab1632332b64b2c03c39dcf918b08424e98f38b5ae0af88f"
   }
  }
 },
 "nbformat": 4,
 "nbformat_minor": 2
}
