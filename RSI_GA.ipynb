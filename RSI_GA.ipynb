{
 "cells": [
  {
   "cell_type": "markdown",
   "metadata": {},
   "source": [
    "# PACKAGES"
   ]
  },
  {
   "cell_type": "markdown",
   "metadata": {},
   "source": []
  },
  {
   "cell_type": "code",
   "execution_count": null,
   "metadata": {},
   "outputs": [],
   "source": [
    "import get_data as gd\n",
    "import pandas as pd\n",
    "import warnings\n",
    "warnings.filterwarnings('ignore')\n",
    "import Asset as a\n",
    "import numpy as np\n",
    "import random\n",
    "from ta.momentum import RSIIndicator\n",
    "import matplotlib.pyplot as plt"
   ]
  },
  {
   "cell_type": "code",
   "execution_count": null,
   "metadata": {},
   "outputs": [],
   "source": [
    "# Grab bitcoin data\n",
    "df_data = gd.grab_data()"
   ]
  },
  {
   "cell_type": "markdown",
   "metadata": {},
   "source": [
    "# Hyperparameter"
   ]
  },
  {
   "cell_type": "code",
   "execution_count": null,
   "metadata": {},
   "outputs": [],
   "source": [
    "NUMBER_OF_GENERATION = 3\n",
    "POPULATION_SIZE = 2000\n",
    "CROSSOVER_PROBABILITY = 0.5\n",
    "MUTATION_PROBABILITY = 0.3\n",
    "HIGHEST_WINDOWSIZE = 30\n",
    "LOWEST_WINDOWSIZE = 4\n",
    "HIGHEST_HIGHTHRESHOLD = 90\n",
    "LOWEST_HIGHRESHOLD = 70\n",
    "HIGHEST_LOWTHRESHOLD = 30\n",
    "LOWEST_LOWTHRESHOLD = 10\n",
    "MUTATION_HIGH = 1.3\n",
    "MUTATION_LOW = 0.7\n",
    "\n",
    "#plotting hyperparams\n",
    "N_COLS = 2\n",
    "N_PLOTS = NUMBER_OF_GENERATION + 1\n",
    "N_ROWS = (N_PLOTS + N_COLS - 1) // N_COLS"
   ]
  },
  {
   "cell_type": "markdown",
   "metadata": {},
   "source": [
    "# Trade Strategy"
   ]
  },
  {
   "cell_type": "code",
   "execution_count": null,
   "metadata": {},
   "outputs": [],
   "source": [
    "def apply_strategy(data, individual, start_time, end_time):\n",
    "    # start_time is not allowed to be 0 since the close price yesterday is needed\n",
    "    if start_time <= 0:\n",
    "        raise ValueError(\"start time is not allowed to be 0\")\n",
    "    # Initialize some variables\n",
    "    windowsize, highthreshold, lowthreshold = individual\n",
    "    rsi =RSIIndicator(data[\"close\"], window=windowsize)\n",
    "    data[\"rsi\"] = rsi.rsi()\n",
    "    btc = np.asarray(data[\"close\"])\n",
    "    asset = a.Asset()\n",
    "    in_position = False\n",
    "    money_progress = []\n",
    "    buy_days = []\n",
    "    sell_days = []\n",
    "\n",
    "    # Apply buy and sell strategy \n",
    "    for i in range(start_time - 1, end_time -1):\n",
    "        #buy\n",
    "        if not in_position and data[\"rsi\"].iloc[i] < lowthreshold:\n",
    "            asset.buy(btc[i+1])\n",
    "            in_position =True\n",
    "            buy_days.append(i)\n",
    "        #sell\n",
    "        elif in_position and data[\"rsi\"].iloc[i] > highthreshold:\n",
    "            asset.sell(btc[i+1])\n",
    "            in_position =False\n",
    "            sell_days.append(i)\n",
    "        #store the value of money in each iteration\n",
    "        money_progress.append(asset.money + asset.coin * btc[i+1])\n",
    "\n",
    "    if in_position:\n",
    "        asset.sell(btc[end_time])\n",
    "        sell_days.append(end_time)\n",
    "\n",
    "    money_progress.append(asset.money)\n",
    "\n",
    "    btc_prices = btc[start_time:end_time +1]\n",
    "    return money_progress, btc_prices, buy_days, sell_days\n",
    "\n",
    "#calculate fitness of each individual \n",
    "def calculate_fitness(data. individual, start_time, end_time):\n",
    "    money_progress, btc_prices, buy_days, sell_days = apply_strategy(data, individual, start_time, end_time)\n",
    "    score = money_progress[-1]\n",
    "    return score\n",
    "\n",
    "def softmax(x):\n",
    "    e_x = np.exp(x - np.max(x))\n",
    "    return e_x / e_x.sum(axis=0)\n",
    "\n",
    "# calculate the probability of each individual and select them as the parents of next generation\n",
    "def roulette_wheel_selection(population, fitness):\n",
    "    softmax_fitness = softmax(fitness)\n",
    "    selected_indices = np.random.choice(range(len(population)), size=2, replace=False, p=softmax_fitness)\n",
    "    return [population[i] for i in selected_indices]"
   ]
  },
  {
   "cell_type": "markdown",
   "metadata": {},
   "source": [
    "# PLOT"
   ]
  },
  {
   "cell_type": "code",
   "execution_count": null,
   "metadata": {},
   "outputs": [],
   "source": [
    "def draw_top_individuals(top_individuals, start_time, end_time, generation, is_test):\n",
    "    #plot the money progress of the top 4 individuals in last generation\n",
    "    color_list = ['r', 'b', 'g', 'k']\n",
    "    subplot_location = generation // N_COLS, generation % N_COLS\n",
    "\n",
    "    #plot.figure(figsize=(8,4))\n",
    "    for idx, (individual, fit) in enumerate(top_individuals[:4]):\n",
    "        window, hight, lowt = individual\n",
    "        days =range(start_time, end_time+1)\n",
    "        money_progress, btc_prices, buy_days, sell_days = apply_strategy(df_data, individual, start_time, end_time)\n",
    "\n",
    "        # when it is test dataset\n",
    "        if is_test:\n",
    "            # plot asset line\n",
    "            axes[subplot_location].plot(days, money_progress, color=color_list[idx], label=f\"Individual {idx + 1}\")\n",
    "\n",
    "            # Plot buy and sell points\n",
    "            for buy_day in buy_days:\n",
    "                axes[subplot_location].plot(buy_day, money_progress[buy_day - start_time], 'go', markersize=5)\n",
    "            for sell_day in sell_days:\n",
    "                axes[subplot_location].plot(sell_day, money_progress[sell_day - start_time],'ro', markersize=5)\n",
    "            \n",
    "            #plot the btc_prices\n",
    "            ax2 = axes[subplot_location].twinx()\n",
    "            ax2.plot(days, btc_prices, linestyle='--', color='orange', alpha=0.5, label='BTC Price (AUD)')\n",
    "            ax2.set_ylabel(\"BTC Price (AUD\")\n",
    "\n",
    "            # Add legend\n",
    "            buy_marker = plt.Line2D([], [], color='g', marker='o', linestyle='None', markersize=5, label='Buy')\n",
    "            sell_marker = plt.Line2D([], [], color='r', marker='o', linestyle='None', markersize=5, label='Sell')\n",
    "            btc_price_line = plt.Line2D([], [], color='orange', linestyle='--', alpha=0.5, label='BTC Price (AUD)')\n",
    "            axes[subplot_location].legend(handles=[buy_marker, sell_marker, btc_price_line], loc='best')\n",
    "\n",
    "        else:\n",
    "            axes[subplot_location].plot(days, money_progress, color=color_list[idx], \n",
    "                                    label=f\"Individual {idx + 1}: | {window:02d} | {hight:03.2f} | {lowt:03.2f} |\")\n",
    "            axes[subplot_location].legend(loc='upper left')\n",
    "            \n",
    "    axes[subplot_location].set_title(f\"Generation {generation + 1}\" if generation != NUMBER_OF_GENERATION else 'Test Set')\n",
    "    axes[subplot_location].set_xlabel(\"Day\")\n",
    "    axes[subplot_location].set_ylabel(\"Money(AUD)\")\n",
    "\n",
    "    # plt.savefig(\"figure/Top4IndividualsMoneyProgress.png\")\n",
    "    # plt.show()\n"
   ]
  },
  {
   "cell_type": "markdown",
   "metadata": {},
   "source": [
    "# GENETIC ALGORITHM"
   ]
  },
  {
   "cell_type": "code",
   "execution_count": null,
   "metadata": {},
   "outputs": [],
   "source": [
    "def create_population(size):\n",
    "    population = []\n",
    "    # Generate population by random parameters(genes)\n",
    "    for _ in range(size):\n",
    "        windosize = random.randint(LOWEST_WINDOWSIZE, HIGHEST_WINDOWSIZE)\n",
    "        highthreshold = random.uniform(LOWEST_HIGHRESHOLD, HIGHEST_HIGHTHRESHOLD)\n",
    "        lowthreshold = random.uniform(LOWEST_LOWTHRESHOLD, HIGHEST_LOWTHRESHOLD)\n",
    "        individual = (windosize, highthreshold, lowthreshold)\n",
    "        population.append(individual)\n",
    "    return population"
   ]
  }
 ],
 "metadata": {
  "kernelspec": {
   "display_name": "Python 3.9.7 ('base')",
   "language": "python",
   "name": "python3"
  },
  "language_info": {
   "codemirror_mode": {
    "name": "ipython",
    "version": 3
   },
   "file_extension": ".py",
   "mimetype": "text/x-python",
   "name": "python",
   "nbconvert_exporter": "python",
   "pygments_lexer": "ipython3",
   "version": "3.9.7"
  },
  "orig_nbformat": 4,
  "vscode": {
   "interpreter": {
    "hash": "40d3a090f54c6569ab1632332b64b2c03c39dcf918b08424e98f38b5ae0af88f"
   }
  }
 },
 "nbformat": 4,
 "nbformat_minor": 2
}
